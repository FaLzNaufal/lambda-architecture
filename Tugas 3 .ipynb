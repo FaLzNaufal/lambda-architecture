{
 "cells": [
  {
   "cell_type": "code",
   "execution_count": 1,
   "metadata": {},
   "outputs": [],
   "source": [
    "import datetime\n",
    "import time\n",
    "\n",
    "url = \"hdfs://127.0.0.1:9000/socmed_input/\"\n",
    "out_url = \"hdfs://127.0.0.1:9000/socmed_output/\""
   ]
  },
  {
   "cell_type": "code",
   "execution_count": 46,
   "metadata": {},
   "outputs": [],
   "source": [
    "def normalizeTime(time):\n",
    "    res = ''\n",
    "    for i in range(len(time)):\n",
    "        if i == 6 or i == 7:\n",
    "            res += '0'\n",
    "        elif i == 4:\n",
    "            if int(time[i]) < 5:\n",
    "                res += '0'\n",
    "            else:\n",
    "                res += '5'\n",
    "        else:\n",
    "            res += time[i] \n",
    "    return res\n",
    "\n",
    "def parseTime(type, time):\n",
    "    if type == \"twitter\":\n",
    "        ts = t.strftime('%Y-%m-%d %H:%M:%S', t.strptime(time,'%a %b %d %H:%M:%S +0000 %Y'))\n",
    "        return ts[:10]\n",
    "    elif type == \"instagram\" or type == \"other\":\n",
    "        time = str(datetime.datetime.fromtimestamp(int(time)).date())\n",
    "        return time[:10]\n",
    "    else:\n",
    "        return time[:10] + ' ' + normalizeTime(time[11:19])"
   ]
  },
  {
   "cell_type": "code",
   "execution_count": 51,
   "metadata": {},
   "outputs": [
    {
     "data": {
      "text/plain": [
       "[('facebook', '2021-12-28 10:40:00', 2, 1),\n",
       " ('facebook', '2021-12-27 02:05:00', 5, 1),\n",
       " ('facebook', '2021-12-25 01:00:00', 4, 1),\n",
       " ('facebook', '2021-12-21 13:45:00', 4, 1),\n",
       " ('facebook', '2021-12-11 03:00:00', 1, 1)]"
      ]
     },
     "execution_count": 51,
     "metadata": {},
     "output_type": "execute_result"
    }
   ],
   "source": [
    "fb = spark.read.json(f\"{url}facebook*.json\").rdd\n",
    "\n",
    "def map(line):\n",
    "    result = []\n",
    "    postDate = line[\"created_time\"][0:10] + ' ' + normalizeTime(line[\"created_time\"][11:19])\n",
    "    comments = line[\"comments\"][\"data\"]\n",
    "    result.append(((\"facebook\", postDate), 1))\n",
    "    for comment in comments:\n",
    "        date = comment[\"created_time\"][0:10] + ' ' + normalizeTime(comment[\"created_time\"][11:19])\n",
    "        result.append(((\"facebook\", date), 1))\n",
    "    return result\n",
    "\n",
    "def userMap(line):\n",
    "    user = line[\"from\"][\"name\"]\n",
    "    postDate = line[\"created_time\"][0:10] + ' ' + normalizeTime(line[\"created_time\"][11:19])\n",
    "    return ((\"facebook\", postDate, user), 1)\n",
    "    \n",
    "\n",
    "fbPost = fb.flatMap(map)\n",
    "fbPost = fbPost.reduceByKey(lambda x, y: x + y)\n",
    "\n",
    "user = fb.map(userMap).distinct().map(lambda x: ((x[0][0], x[0][1]), x[1]))\n",
    "user = user.reduceByKey(lambda x, y: x + y)\n",
    "\n",
    "fbPost = fbPost.join(user).map(lambda x: (x[0], x[1][0], x[1][1]))\n",
    "fbPost = fbPost.map(lambda x: (x[0][0], x[0][1], x[1], x[2]))\n",
    "fbPost.take(5)"
   ]
  },
  {
   "cell_type": "code",
   "execution_count": null,
   "metadata": {},
   "outputs": [],
   "source": []
  },
  {
   "cell_type": "code",
   "execution_count": null,
   "metadata": {},
   "outputs": [],
   "source": []
  }
 ],
 "metadata": {
  "kernelspec": {
   "display_name": "Python 3",
   "language": "python",
   "name": "python3"
  },
  "language_info": {
   "codemirror_mode": {
    "name": "ipython",
    "version": 3
   },
   "file_extension": ".py",
   "mimetype": "text/x-python",
   "name": "python",
   "nbconvert_exporter": "python",
   "pygments_lexer": "ipython3",
   "version": "3.7.4"
  }
 },
 "nbformat": 4,
 "nbformat_minor": 2
}

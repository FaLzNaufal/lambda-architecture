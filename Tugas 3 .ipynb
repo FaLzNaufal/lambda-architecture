{
 "cells": [
  {
   "cell_type": "code",
   "execution_count": 1,
   "metadata": {},
   "outputs": [],
   "source": [
    "import datetime\n",
    "import time\n",
    "import psycopg2\n",
    "\n",
    "url = \"hdfs://127.0.0.1:9000/socmed_input/\"\n",
    "out_url = \"hdfs://127.0.0.1:9000/socmed_output/\"\n",
    "\n",
    "conn = psycopg2.connect(database=\"bigdatatest\",\n",
    "    host=\"localhost\",\n",
    "    user=\"geraldakbar\",\n",
    "    password='bigdata'\n",
    ")"
   ]
  },
  {
   "cell_type": "code",
   "execution_count": 2,
   "metadata": {},
   "outputs": [],
   "source": [
    "def normalizeTime(time):\n",
    "    res = ''\n",
    "    for i in range(len(time)):\n",
    "        if i == 6 or i == 7:\n",
    "            res += '0'\n",
    "        elif i == 4:\n",
    "            if int(time[i]) < 5:\n",
    "                res += '0'\n",
    "            else:\n",
    "                res += '5'\n",
    "        else:\n",
    "            res += time[i] \n",
    "    return res\n",
    "\n",
    "def parseTime(type, time):\n",
    "    if type == \"twitter\":\n",
    "        ts = t.strftime('%Y-%m-%d %H:%M:%S', t.strptime(time,'%a %b %d %H:%M:%S +0000 %Y'))\n",
    "        return ts[:10]\n",
    "    elif type == \"instagram\" or type == \"other\":\n",
    "        time = str(datetime.datetime.fromtimestamp(int(time)).date())\n",
    "        return time[:10]\n",
    "    else:\n",
    "        return time[:10] + ' ' + normalizeTime(time[11:19])"
   ]
  },
  {
   "cell_type": "code",
   "execution_count": 10,
   "metadata": {},
   "outputs": [
    {
     "name": "stderr",
     "output_type": "stream",
     "text": [
      "                                                                                \r"
     ]
    }
   ],
   "source": [
    "fb = spark.read.json(f\"{url}facebook*.json\").rdd\n",
    "\n",
    "def map(line):\n",
    "    result = []\n",
    "    postDate = line[\"created_time\"][0:10] + ' ' + normalizeTime(line[\"created_time\"][11:19])\n",
    "    comments = line[\"comments\"][\"data\"]\n",
    "    result.append(((\"facebook\", postDate), 1))\n",
    "    for comment in comments:\n",
    "        date = comment[\"created_time\"][0:10] + ' ' + normalizeTime(comment[\"created_time\"][11:19])\n",
    "        result.append(((\"facebook\", date), 1))\n",
    "    return result\n",
    "\n",
    "def userMap(line):\n",
    "    user = line[\"from\"][\"name\"]\n",
    "    postDate = line[\"created_time\"][0:10] + ' ' + normalizeTime(line[\"created_time\"][11:19])\n",
    "    return ((\"facebook\", postDate, user), 1)\n",
    "    \n",
    "\n",
    "cur = conn.cursor()\n",
    "fbPost = fb.flatMap(map)\n",
    "fbPost = fbPost.reduceByKey(lambda x, y: x + y)\n",
    "\n",
    "user = fb.map(userMap).distinct().map(lambda x: ((x[0][0], x[0][1]), x[1]))\n",
    "user = user.reduceByKey(lambda x, y: x + y)\n",
    "\n",
    "fbPost = fbPost.join(user).map(lambda x: (x[0], x[1][0], x[1][1]))\n",
    "fbPost = fbPost.map(lambda x: (x[0][0], x[0][1], x[1], x[2]))\n",
    "test = fbPost.take(5)\n",
    "\n",
    "insertToSQL(test,conn,cur)"
   ]
  },
  {
   "cell_type": "code",
   "execution_count": 14,
   "metadata": {},
   "outputs": [
    {
     "name": "stdout",
     "output_type": "stream",
     "text": [
      "Updating 9882c11..e86c756\n",
      "Fast-forward\n",
      " .../Facebook-checkpoint.ipynb                      |    4 \u001b[32m+\u001b[m\u001b[31m-\u001b[m\n",
      " .ipynb_checkpoints/Instagram-checkpoint.ipynb      |  156 \u001b[32m+++\u001b[m\n",
      " .ipynb_checkpoints/Twitter-checkpoint.ipynb        |  130 \u001b[32m++\u001b[m\n",
      " .ipynb_checkpoints/Youtube-checkpoint.ipynb        |  148 \u001b[32m++\u001b[m\n",
      " .../spark_socmed_13520068-checkpoint.ipynb         | 1458 \u001b[32m++++++++++++++++++++\u001b[m\n",
      " Facebook.ipynb                                     |  162 \u001b[32m+++\u001b[m\n",
      " Instagram.ipynb                                    |  156 \u001b[32m+++\u001b[m\n",
      " Twitter.ipynb                                      |  130 \u001b[32m++\u001b[m\n",
      " Youtube.ipynb                                      |  148 \u001b[32m++\u001b[m\n",
      " consumer.py                                        |   28 \u001b[32m+\u001b[m\u001b[31m-\u001b[m\n",
      " producer.py                                        |    6 \u001b[32m+\u001b[m\u001b[31m-\u001b[m\n",
      " spark_socmed_13520068.ipynb                        |   16 \u001b[32m+\u001b[m\n",
      " 12 files changed, 2537 insertions(+), 5 deletions(-)\n",
      " rename Tugas 3 .ipynb => .ipynb_checkpoints/Facebook-checkpoint.ipynb (98%)\n",
      " create mode 100644 .ipynb_checkpoints/Instagram-checkpoint.ipynb\n",
      " create mode 100644 .ipynb_checkpoints/Twitter-checkpoint.ipynb\n",
      " create mode 100644 .ipynb_checkpoints/Youtube-checkpoint.ipynb\n",
      " create mode 100644 .ipynb_checkpoints/spark_socmed_13520068-checkpoint.ipynb\n",
      " create mode 100644 Facebook.ipynb\n",
      " create mode 100644 Instagram.ipynb\n",
      " create mode 100644 Twitter.ipynb\n",
      " create mode 100644 Youtube.ipynb\n"
     ]
    }
   ],
   "source": [
    "!git pull"
   ]
  },
  {
   "cell_type": "code",
   "execution_count": 8,
   "metadata": {},
   "outputs": [],
   "source": [
    "def insertToSQL(data,connection,cursor):\n",
    "    for element in data:\n",
    "        social_media = element[0]\n",
    "        timestamp = element[1]\n",
    "        count = element[2]\n",
    "        uniquecount = element[3]\n",
    "\n",
    "        query = f\"\"\"INSERT INTO social_media_data (social_media, timestamp, count, uniquecount)\n",
    "                    VALUES ('{social_media}', '{timestamp}', {count}, {uniquecount})\n",
    "                    ON CONFLICT (social_media, timestamp) DO UPDATE\n",
    "                    SET count = CASE WHEN social_media_data.count IS NULL THEN 1 ELSE social_media_data.count + {count} END,\n",
    "                    uniquecount = CASE WHEN social_media_data.uniquecount IS NULL THEN 1 ELSE social_media_data.uniquecount + {uniquecount} END,\n",
    "                    updated_at = NOW();\"\"\"\n",
    "\n",
    "\n",
    "\n",
    "        cursor.execute(query)\n",
    "\n",
    "    connection.commit()\n",
    "    "
   ]
  }
 ],
 "metadata": {
  "kernelspec": {
   "display_name": "Python 3 (ipykernel)",
   "language": "python",
   "name": "python3"
  },
  "language_info": {
   "codemirror_mode": {
    "name": "ipython",
    "version": 3
   },
   "file_extension": ".py",
   "mimetype": "text/x-python",
   "name": "python",
   "nbconvert_exporter": "python",
   "pygments_lexer": "ipython3",
   "version": "3.7.16"
  }
 },
 "nbformat": 4,
 "nbformat_minor": 2
}

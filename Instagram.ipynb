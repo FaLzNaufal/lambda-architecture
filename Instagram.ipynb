{
 "cells": [
  {
   "cell_type": "code",
   "execution_count": 1,
   "metadata": {},
   "outputs": [],
   "source": [
    "import datetime\n",
    "import time\n",
    "import psycopg2\n",
    "\n",
    "url = \"hdfs://127.0.0.1:9000/socmed_input/\"\n",
    "out_url = \"hdfs://127.0.0.1:9000/socmed_output/\"\n",
    "\n",
    "conn = psycopg2.connect(database=\"bigdatatest\",\n",
    "    host=\"localhost\",\n",
    "    user=\"geraldakbar\",\n",
    "    password='bigdata'\n",
    ")\n",
    "cur = conn.cursor()"
   ]
  },
  {
   "cell_type": "code",
   "execution_count": 2,
   "metadata": {},
   "outputs": [],
   "source": [
    "def normalizeTime(time):\n",
    "    res = ''\n",
    "    for i in range(len(time)):\n",
    "        if i == 6 or i == 7:\n",
    "            res += '0'\n",
    "        elif i == 4:\n",
    "            if int(time[i]) < 5:\n",
    "                res += '0'\n",
    "            else:\n",
    "                res += '5'\n",
    "        else:\n",
    "            res += time[i] \n",
    "    return res\n",
    "\n",
    "def parseTime(type, time):\n",
    "    if type == \"twitter\":\n",
    "        ts = t.strftime('%Y-%m-%d %H:%M:%S', t.strptime(time,'%a %b %d %H:%M:%S +0000 %Y'))\n",
    "        return ts[:10]\n",
    "    elif type == \"instagram\" or type == \"other\":\n",
    "        time = str(datetime.datetime.fromtimestamp(int(time)).date())\n",
    "        return time[:10]\n",
    "    else:\n",
    "        return time[:10] + ' ' + normalizeTime(time[11:19])"
   ]
  },
  {
   "cell_type": "code",
   "execution_count": 5,
   "metadata": {},
   "outputs": [
    {
     "name": "stderr",
     "output_type": "stream",
     "text": [
      "                                                                                \r"
     ]
    }
   ],
   "source": [
    "ig = spark.read.json(f\"{url}instagram*.json\").rdd\n",
    "# map the lines to a key-value pair\n",
    "def map(line):\n",
    "    date = line['created_time']\n",
    "    # format date\n",
    "    date = datetime.datetime.fromtimestamp(int(date)).strftime('%Y-%m-%d')\n",
    "    return ((\"instagram\", date), 1)\n",
    "def userMap(line):\n",
    "    user = line['user']['username']\n",
    "    date = line['created_time']\n",
    "    # format date\n",
    "    date = datetime.datetime.fromtimestamp(int(date)).strftime('%Y-%m-%d')\n",
    "    return ((\"instagram\", date, user), 1)\n",
    "    \n",
    "\n",
    "igPost = ig.map(map)\n",
    "igPost = igPost.reduceByKey(lambda x, y: x + y)\n",
    "\n",
    "user = ig.map(userMap).distinct().map(lambda x: ((x[0][0], x[0][1]), x[1]))\n",
    "user = user.reduceByKey(lambda x, y: x + y)\n",
    "\n",
    "igPost = igPost.join(user).map(lambda x: (x[0], x[1][0], x[1][1]))\n",
    "igPost = igPost.map(lambda x: (x[0][0], x[0][1], x[1], x[2]))\n",
    "\n",
    "test = igPost.take(10)\n",
    "insertToSQL(test,conn,cur)"
   ]
  },
  {
   "cell_type": "code",
   "execution_count": 4,
   "metadata": {},
   "outputs": [],
   "source": [
    "def insertToSQL(data,connection,cursor):\n",
    "    for element in data:\n",
    "        social_media = element[0]\n",
    "        timestamp = element[1]\n",
    "        count = element[2]\n",
    "        uniquecount = element[3]\n",
    "\n",
    "        query = f\"\"\"INSERT INTO social_media_data (social_media, timestamp, count, uniquecount)\n",
    "                    VALUES ('{social_media}', '{timestamp}', {count}, {uniquecount})\n",
    "                    ON CONFLICT (social_media, timestamp) DO UPDATE\n",
    "                    SET count = CASE WHEN social_media_data.count IS NULL THEN 1 ELSE social_media_data.count + {count} END,\n",
    "                    uniquecount = CASE WHEN social_media_data.uniquecount IS NULL THEN 1 ELSE social_media_data.uniquecount + {uniquecount} END,\n",
    "                    updated_at = NOW();\"\"\"\n",
    "\n",
    "\n",
    "\n",
    "        cursor.execute(query)\n",
    "\n",
    "    connection.commit()"
   ]
  },
  {
   "cell_type": "code",
   "execution_count": null,
   "metadata": {},
   "outputs": [],
   "source": []
  }
 ],
 "metadata": {
  "kernelspec": {
   "display_name": "Python 3 (ipykernel)",
   "language": "python",
   "name": "python3"
  },
  "language_info": {
   "codemirror_mode": {
    "name": "ipython",
    "version": 3
   },
   "file_extension": ".py",
   "mimetype": "text/x-python",
   "name": "python",
   "nbconvert_exporter": "python",
   "pygments_lexer": "ipython3",
   "version": "3.7.16"
  }
 },
 "nbformat": 4,
 "nbformat_minor": 2
}

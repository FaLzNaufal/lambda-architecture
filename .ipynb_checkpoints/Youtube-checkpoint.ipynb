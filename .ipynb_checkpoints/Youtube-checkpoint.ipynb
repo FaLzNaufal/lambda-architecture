{
 "cells": [
  {
   "cell_type": "code",
   "execution_count": 1,
   "metadata": {},
   "outputs": [],
   "source": [
    "import datetime\n",
    "import time\n",
    "import psycopg2\n",
    "\n",
    "url = \"hdfs://127.0.0.1:9000/socmed_input/\"\n",
    "out_url = \"hdfs://127.0.0.1:9000/socmed_output/\"\n",
    "\n",
    "conn = psycopg2.connect(database=\"bigdatatest\",\n",
    "    host=\"localhost\",\n",
    "    user=\"geraldakbar\",\n",
    "    password='bigdata'\n",
    ")"
   ]
  },
  {
   "cell_type": "code",
   "execution_count": 2,
   "metadata": {},
   "outputs": [],
   "source": [
    "def normalizeTime(time):\n",
    "    res = ''\n",
    "    for i in range(len(time)):\n",
    "        if i == 6 or i == 7:\n",
    "            res += '0'\n",
    "        elif i == 4:\n",
    "            if int(time[i]) < 5:\n",
    "                res += '0'\n",
    "            else:\n",
    "                res += '5'\n",
    "        else:\n",
    "            res += time[i] \n",
    "    return res\n",
    "\n",
    "def parseTime(type, time):\n",
    "    if type == \"twitter\":\n",
    "        ts = t.strftime('%Y-%m-%d %H:%M:%S', t.strptime(time,'%a %b %d %H:%M:%S +0000 %Y'))\n",
    "        return ts[:10]\n",
    "    elif type == \"instagram\" or type == \"other\":\n",
    "        time = str(datetime.datetime.fromtimestamp(int(time)).date())\n",
    "        return time[:10]\n",
    "    else:\n",
    "        return time[:10] + ' ' + normalizeTime(time[11:19])"
   ]
  },
  {
   "cell_type": "code",
   "execution_count": 11,
   "metadata": {},
   "outputs": [
    {
     "data": {
      "text/plain": [
       "[('youtube', '2021-10-11', 41, 24),\n",
       " ('youtube', '2021-04-14', 68, 16),\n",
       " ('youtube', '2021-05-23', 16, 2),\n",
       " ('youtube', '2021-04-16', 22, 8),\n",
       " ('youtube', '2021-04-17', 16, 7)]"
      ]
     },
     "execution_count": 11,
     "metadata": {},
     "output_type": "execute_result"
    }
   ],
   "source": [
    "yt = spark.read.json(f\"{url}youtube*.json\").rdd\n",
    "# map the lines to a key-value pair\n",
    "def map(line):\n",
    "    snippet = line['snippet']\n",
    "    # check if comment is a reply\n",
    "    if snippet['topLevelComment'] is not None:\n",
    "        snippet = snippet['topLevelComment']['snippet']\n",
    "    # get date from snippet.publishedAt\n",
    "    date = snippet['publishedAt'][0:10]\n",
    "    return ((\"youtube\", date), 1)\n",
    "def userMap(line):\n",
    "    snippet = line['snippet']\n",
    "    user = None\n",
    "    # check if comment is a reply\n",
    "    if(snippet['channelId'] != None):\n",
    "        user = snippet['channelId']\n",
    "        date = snippet['publishedAt'][0:10]\n",
    "    else:\n",
    "        if snippet['topLevelComment'] is not None:\n",
    "            snippet = snippet['topLevelComment']['snippet']\n",
    "        # get date from snippet.publishedAt\n",
    "        date = snippet['publishedAt'][0:10]\n",
    "    \n",
    "        user = snippet['authorChannelId']['value']\n",
    "    return ((\"youtube\", date, user), 1)\n",
    "ytPost = yt.map(map)\n",
    "ytPost = ytPost.reduceByKey(lambda x, y: x + y)\n",
    "\n",
    "user = yt.map(userMap).distinct().map(lambda x: ((x[0][0], x[0][1]), x[1]))\n",
    "user = user.reduceByKey(lambda x, y: x + y)\n",
    "\n",
    "ytPost = ytPost.join(user).map(lambda x: (x[0], x[1][0], x[1][1]))\n",
    "ytPost = ytPost.map(lambda x: (x[0][0], x[0][1], x[1], x[2]))\n",
    "\n",
    "ytPost.take(5)"
   ]
  },
  {
   "cell_type": "code",
   "execution_count": null,
   "metadata": {},
   "outputs": [],
   "source": []
  },
  {
   "cell_type": "code",
   "execution_count": null,
   "metadata": {},
   "outputs": [],
   "source": []
  }
 ],
 "metadata": {
  "kernelspec": {
   "display_name": "Python 3",
   "language": "python",
   "name": "python3"
  },
  "language_info": {
   "codemirror_mode": {
    "name": "ipython",
    "version": 3
   },
   "file_extension": ".py",
   "mimetype": "text/x-python",
   "name": "python",
   "nbconvert_exporter": "python",
   "pygments_lexer": "ipython3",
   "version": "3.7.4"
  }
 },
 "nbformat": 4,
 "nbformat_minor": 2
}

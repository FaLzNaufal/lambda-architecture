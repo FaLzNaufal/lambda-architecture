{
 "cells": [
  {
   "cell_type": "code",
   "execution_count": 1,
   "metadata": {},
   "outputs": [],
   "source": [
    "import datetime\n",
    "import time\n",
    "import psycopg2\n",
    "\n",
    "url = \"hdfs://127.0.0.1:9000/socmed_input/\"\n",
    "out_url = \"hdfs://127.0.0.1:9000/socmed_output/\"\n",
    "\n",
    "conn = psycopg2.connect(database=\"bigdatatest\",\n",
    "    host=\"localhost\",\n",
    "    user=\"geraldakbar\",\n",
    "    password='bigdata'\n",
    ")\n",
    "\n",
    "cur = conn.cursor()"
   ]
  },
  {
   "cell_type": "code",
   "execution_count": 1,
   "metadata": {},
   "outputs": [],
   "source": [
    "def normalizeTime(time):\n",
    "    res = ''\n",
    "    for i in range(len(time)):\n",
    "        if i == 6 or i == 7:\n",
    "            res += '0'\n",
    "        elif i == 4:\n",
    "            if int(time[i]) < 5:\n",
    "                res += '0'\n",
    "            else:\n",
    "                res += '5'\n",
    "        else:\n",
    "            res += time[i] \n",
    "    return res\n",
    "\n",
    "def parseTime(type, time):\n",
    "    if type == \"twitter\":\n",
    "        ts = t.strftime('%Y-%m-%d %H:%M:%S', t.strptime(time,'%a %b %d %H:%M:%S +0000 %Y'))\n",
    "        return ts[:10]\n",
    "    elif type == \"instagram\" or type == \"other\":\n",
    "        time = str(datetime.datetime.fromtimestamp(int(time)).date())\n",
    "        return time[:10]\n",
    "    else:\n",
    "        return time[:10] + ' ' + normalizeTime(time[11:19])"
   ]
  },
  {
   "cell_type": "code",
   "execution_count": 3,
   "metadata": {},
   "outputs": [
    {
     "name": "stderr",
     "output_type": "stream",
     "text": [
      "                                                                                \r"
     ]
    },
    {
     "data": {
      "text/plain": [
       "[('facebook', '2022-01-01 15:15:00', 33, 1),\n",
       " ('facebook', '2022-01-01 01:35:00', 2, 1),\n",
       " ('facebook', '2021-12-29 08:55:00', 1, 1),\n",
       " ('facebook', '2021-12-28 10:40:00', 2, 1),\n",
       " ('facebook', '2021-12-24 06:15:00', 1, 1)]"
      ]
     },
     "execution_count": 3,
     "metadata": {},
     "output_type": "execute_result"
    },
    {
     "name": "stderr",
     "output_type": "stream",
     "text": [
      "23/04/17 11:17:01 WARN spark.HeartbeatReceiver: Removing executor driver with no recent heartbeats: 966665 ms exceeds timeout 120000 ms\n",
      "23/04/17 11:17:01 ERROR scheduler.TaskSchedulerImpl: Lost executor driver on localhost: Executor heartbeat timed out after 966665 ms\n",
      "23/04/17 11:17:01 WARN spark.SparkContext: Killing executors is not supported by current scheduler.\n",
      "23/04/17 11:17:01 WARN storage.BlockManagerMasterEndpoint: No more replicas available for broadcast_6_piece0 !\n",
      "23/04/17 11:17:01 WARN storage.BlockManagerMasterEndpoint: No more replicas available for broadcast_4_piece0 !\n",
      "23/04/17 11:17:01 WARN storage.BlockManagerMasterEndpoint: No more replicas available for broadcast_2_piece0 !\n",
      "23/04/17 11:17:01 WARN storage.BlockManagerMasterEndpoint: No more replicas available for broadcast_5_piece0 !\n",
      "23/04/17 11:17:01 WARN storage.BlockManagerMasterEndpoint: No more replicas available for broadcast_3_piece0 !\n"
     ]
    }
   ],
   "source": [
    "fb = spark.read.json(f\"{url}facebook*.json\").rdd\n",
    "\n",
    "def map(line):\n",
    "    result = []\n",
    "    postDate = line[\"created_time\"][0:10] + ' ' + normalizeTime(line[\"created_time\"][11:19])\n",
    "    comments = line[\"comments\"][\"data\"]\n",
    "    result.append(((\"facebook\", postDate), 1))\n",
    "    for comment in comments:\n",
    "        date = comment[\"created_time\"][0:10] + ' ' + normalizeTime(comment[\"created_time\"][11:19])\n",
    "        result.append(((\"facebook\", date), 1))\n",
    "    return result\n",
    "\n",
    "def userMap(line):\n",
    "    user = line[\"from\"][\"name\"]\n",
    "    postDate = line[\"created_time\"][0:10] + ' ' + normalizeTime(line[\"created_time\"][11:19])\n",
    "    return ((\"facebook\", postDate, user), 1)\n",
    "    \n",
    "\n",
    "cursor = conn.cursor()\n",
    "fbPost = fb.flatMap(map)\n",
    "fbPost = fbPost.reduceByKey(lambda x, y: x + y)\n",
    "\n",
    "user = fb.map(userMap).distinct().map(lambda x: ((x[0][0], x[0][1]), x[1]))\n",
    "user = user.reduceByKey(lambda x, y: x + y)\n",
    "\n",
    "fbPost = fbPost.join(user).map(lambda x: (x[0], x[1][0], x[1][1]))\n",
    "fbPost = fbPost.map(lambda x: (x[0][0], x[0][1], x[1], x[2]))\n",
    "\n",
    "test = fbPost.take(5)\n"
   ]
  },
  {
   "cell_type": "code",
   "execution_count": null,
   "metadata": {},
   "outputs": [],
   "source": [
    "def insertToSQL(data,connection,cursor):\n",
    "    for element in data:\n",
    "        social_media = element[0]\n",
    "        timestamp = element[1]\n",
    "        count = element[2]\n",
    "        uniquecount = element[3]\n",
    "\n",
    "        query = f\"\"\"INSERT INTO social_media_data (social_media, timestamp, count, uniquecount)\n",
    "                    VALUES ('{social_media}', '{timestamp}', {count}, {uniquecount})\n",
    "                    ON CONFLICT (social_media, timestamp) DO UPDATE\n",
    "                    SET count = CASE WHEN social_media_data.count IS NULL THEN 1 ELSE social_media_data.count + {count} END,\n",
    "                    uniquecount = CASE WHEN social_media_data.uniquecount IS NULL THEN 1 ELSE social_media_data.uniquecount + {uniquecount} END,\n",
    "                    updated_at = NOW();\"\"\"\n",
    "\n",
    "\n",
    "\n",
    "        cursor.execute(query)\n",
    "\n",
    "    connection.commit()"
   ]
  },
  {
   "cell_type": "code",
   "execution_count": null,
   "metadata": {},
   "outputs": [],
   "source": []
  }
 ],
 "metadata": {
  "kernelspec": {
   "display_name": "Python 3 (ipykernel)",
   "language": "python",
   "name": "python3"
  },
  "language_info": {
   "codemirror_mode": {
    "name": "ipython",
    "version": 3
   },
   "file_extension": ".py",
   "mimetype": "text/x-python",
   "name": "python",
   "nbconvert_exporter": "python",
   "pygments_lexer": "ipython3",
   "version": "3.7.16"
  }
 },
 "nbformat": 4,
 "nbformat_minor": 2
}
